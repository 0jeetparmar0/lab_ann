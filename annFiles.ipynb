{
 "cells": [
  {
   "cell_type": "code",
   "execution_count": 1,
   "id": "9d5202bd-b607-488c-9887-234858b44638",
   "metadata": {},
   "outputs": [
    {
     "name": "stdout",
     "output_type": "stream",
     "text": [
      "1\n"
     ]
    }
   ],
   "source": [
    "# Write a program to implement McCulloch Pitts Model\n",
    "def mc_pitts(inputs, weights, threshold):\n",
    "    if sum(i * w for i, w in zip(inputs, weights)) >= threshold:\n",
    "        return 1\n",
    "    else:\n",
    "        return 0\n",
    "\n",
    "inputs = [1, 0, 1]\n",
    "weights = [1, 1, 1]\n",
    "threshold = 2\n",
    "\n",
    "print(mc_pitts(inputs, weights, threshold))"
   ]
  },
  {
   "cell_type": "code",
   "execution_count": 2,
   "id": "983128be-0e35-45c9-9b2b-5dbd27e3dcc6",
   "metadata": {},
   "outputs": [
    {
     "name": "stdout",
     "output_type": "stream",
     "text": [
      "Weights: [0.2 0.1], Bias: -0.20000000000000004\n"
     ]
    }
   ],
   "source": [
    "# Write a program for solving linearly separable problem using Perceptron Model.\n",
    "import numpy as np\n",
    "\n",
    "def activation(x): return 1 if x >= 0 else 0\n",
    "\n",
    "def train(X, y, lr=0.1, epochs=10):\n",
    "    w, b = np.zeros(X.shape[1]), 0\n",
    "    \n",
    "    for _ in range(epochs):\n",
    "        for xi, yi in zip(X, y):\n",
    "            \n",
    "            error = yi - activation(np.dot(xi, w) + b)\n",
    "            \n",
    "            w += lr * error * xi\n",
    "            b += lr * error\n",
    "    return w, b\n",
    "\n",
    "X = np.array([[0, 0], [0, 1], [1, 0], [1, 1]])\n",
    "y = np.array([0, 0, 0, 1])\n",
    "w, b = train(X, y)\n",
    "\n",
    "print(f'Weights: {w}, Bias: {b}')"
   ]
  },
  {
   "cell_type": "code",
   "execution_count": 3,
   "id": "433246fd-a169-4c8e-a106-125127968d31",
   "metadata": {},
   "outputs": [
    {
     "name": "stdout",
     "output_type": "stream",
     "text": [
      "Weights: [0.2 0.1], Bias: -0.20000000000000004\n",
      "Classifications: [0, 0, 0, 1]\n"
     ]
    }
   ],
   "source": [
    "# Write a program for pattern classification using Perceptron Model.\n",
    "\n",
    "import numpy as np\n",
    "\n",
    "def activation(x): return 1 if x >= 0 else 0\n",
    "\n",
    "def perceptron_train(X, y, lr=0.1, epochs=10):\n",
    "    w, b = np.zeros(X.shape[1]), 0\n",
    "    \n",
    "    for _ in range(epochs):\n",
    "        for xi, yi in zip(X, y):\n",
    "            \n",
    "            error = yi - activation(np.dot(xi, w) + b)\n",
    "            w += lr * error * xi\n",
    "            b += lr * error\n",
    "    return w, b\n",
    "\n",
    "def classify(X, w, b): \n",
    "    return [activation(np.dot(xi, w) + b) for xi in X]\n",
    "\n",
    "# Example usage\n",
    "X = np.array([[0, 0], [0, 1], [1, 0], [1, 1]])  # Inputs\n",
    "y = np.array([0, 0, 0, 1])  # Labels for AND operation\n",
    "\n",
    "w, b = perceptron_train(X, y)\n",
    "\n",
    "print(f'Weights: {w}, Bias: {b}')\n",
    "print('Classifications:', classify(X, w, b))\n"
   ]
  },
  {
   "cell_type": "code",
   "execution_count": 4,
   "id": "ae713696-6c7c-4646-87a2-ba38866062f4",
   "metadata": {},
   "outputs": [
    {
     "name": "stdout",
     "output_type": "stream",
     "text": [
      "Weights: [-0.009144119467964158, -0.009144119467964158, 0.009144119465796817, 0.009144119465796817], [0.5, -0.5], Biases: [-0.009144119467964158, 0.009144119465796817], 0.5\n"
     ]
    }
   ],
   "source": [
    "# Write a program for XOR function (binary input and output) with momentum factor using back propagation algorithm.\n",
    "\n",
    "import math\n",
    "\n",
    "def sigmoid(x): return 1 / (1 + math.exp(-x))\n",
    "def sig_deriv(x): return x * (1 - x)\n",
    "\n",
    "def train_xor(epochs=10000, lr=0.5, momentum=0.9):\n",
    "    X, y = [[0, 0], [0, 1], [1, 0], [1, 1]], [0, 1, 1, 0]\n",
    "    w1, w2, b1, b2, dw1, dw2, db1, db2 = [0.5, -0.5], [0.5, -0.5], [0.5, -0.5], 0.5, 0, 0, 0, 0\n",
    "\n",
    "    for _ in range(epochs):\n",
    "        for xi, yi in zip(X, y):\n",
    "            \n",
    "            h = [sigmoid(sum(x * w for x, w in zip(xi, w1[i::2])) + b1[i]) for i in range(2)]\n",
    "            o = sigmoid(sum(h[i] * w2[i] for i in range(2)) + b2)\n",
    "            \n",
    "            error, d_out = yi - o, (yi - o) * sig_deriv(o)\n",
    "            d_hid = [d_out * w2[i] * sig_deriv(h[i]) for i in range(2)]\n",
    "            \n",
    "            dw2, db2 = momentum * dw2 + lr * d_out * h[0], momentum * db2 + lr * d_out\n",
    "            \n",
    "            w1 = [momentum * dw1 + lr * d_hid[i] * x for i in range(2) for x in xi]\n",
    "            b1 = [momentum * db1 + lr * d_hid[i] for i in range(2)]\n",
    "\n",
    "    return w1, w2, b1, b2\n",
    "\n",
    "w1, w2, b1, b2 = train_xor()\n",
    "print(f\"Weights: {w1}, {w2}, Biases: {b1}, {b2}\")"
   ]
  },
  {
   "cell_type": "code",
   "execution_count": 5,
   "id": "5e4961de-b87b-4282-b338-c896ee0f23d9",
   "metadata": {},
   "outputs": [
    {
     "name": "stdout",
     "output_type": "stream",
     "text": [
      "Recovered Pattern: [1, 1, 1, 0]\n"
     ]
    }
   ],
   "source": [
    "# Write a program to store a pattern (1 1 1 0). Test the network using Discrete Hopfield Net by giving the input with mistakes in First and Second position.\n",
    "\n",
    "import numpy as np\n",
    "\n",
    "def train_hopfield(pattern):\n",
    "    size = len(pattern)\n",
    "    return np.array([[0 if i == j else (2 * pattern[i] - 1) * (2 * pattern[j] - 1) for j in range(size)] for i in range(size)])\n",
    "\n",
    "def hopfield_update(weights, input_pattern):\n",
    "    return [1 if np.dot(weights[i], input_pattern) > 0 else 0 for i in range(len(input_pattern))]\n",
    "\n",
    "pattern = [1, 1, 1, 0]\n",
    "weights = train_hopfield(pattern)\n",
    "test_pattern = [0, 0, 1, 0]  # Mistakes in first and second positions\n",
    "\n",
    "# Run the update until the network stabilizes\n",
    "for _ in range(10):  # Maximum iterations for convergence\n",
    "    test_pattern = hopfield_update(weights, test_pattern)\n",
    "\n",
    "print(\"Recovered Pattern:\", test_pattern)"
   ]
  },
  {
   "cell_type": "code",
   "execution_count": 6,
   "id": "a58d5aab-5b61-4fb8-8995-908c9601de54",
   "metadata": {},
   "outputs": [
    {
     "name": "stdout",
     "output_type": "stream",
     "text": [
      "Recovered Pattern: [0, 0, 0, 1, 1, 0, 0, 1, 1, 0]\n"
     ]
    }
   ],
   "source": [
    "# Program for Pattern storage of 10 digits with Discrete Hopfield Network.\n",
    "\n",
    "import numpy as np\n",
    "\n",
    "# Train Hopfield Network to store multiple patterns\n",
    "def train_hopfield(patterns):\n",
    "    size = len(patterns[0])\n",
    "    weights = np.zeros((size, size))\n",
    "    \n",
    "    for p in patterns:\n",
    "        p = [2 * x - 1 for x in p]  # Convert binary 0/1 to bipolar -1/1\n",
    "        \n",
    "        for i in range(size):\n",
    "            for j in range(size):\n",
    "                if i != j:\n",
    "                    weights[i][j] += p[i] * p[j]\n",
    "    return weights\n",
    "\n",
    "# Update the input pattern\n",
    "def hopfield_update(weights, input_pattern):\n",
    "    return [1 if np.dot(weights[i], input_pattern) > 0 else 0 for i in range(len(input_pattern))]\n",
    "\n",
    "# Example patterns (10 binary digits)\n",
    "patterns = [\n",
    "    [1, 0, 0, 1, 1, 0, 0, 1, 1, 0],\n",
    "    [0, 1, 1, 0, 0, 1, 1, 0, 0, 1],\n",
    "    [1, 1, 0, 0, 1, 1, 0, 1, 0, 0],\n",
    "    [0, 0, 1, 1, 0, 1, 0, 0, 1, 1],\n",
    "    [1, 0, 1, 0, 0, 1, 1, 1, 0, 0],\n",
    "    [0, 1, 0, 1, 1, 0, 0, 1, 1, 1],\n",
    "    [1, 1, 1, 0, 0, 1, 0, 0, 1, 1],\n",
    "    [0, 0, 0, 1, 1, 0, 1, 1, 0, 0],\n",
    "    [1, 0, 0, 1, 1, 1, 0, 0, 1, 0],\n",
    "    [0, 1, 1, 0, 1, 0, 1, 1, 0, 1]\n",
    "]\n",
    "\n",
    "# Train the Hopfield Network\n",
    "weights = train_hopfield(patterns)\n",
    "\n",
    "# Test the network with a noisy pattern\n",
    "test_pattern = [1, 0, 0, 1, 1, 0, 0, 1, 0, 0]  # Example with some noise\n",
    "\n",
    "for _ in range(10):  # Update until convergence\n",
    "    test_pattern = hopfield_update(weights, test_pattern)\n",
    "\n",
    "print(\"Recovered Pattern:\", test_pattern)"
   ]
  },
  {
   "cell_type": "code",
   "execution_count": null,
   "id": "fd53a05f-d527-4ae8-9c9b-0f718a633b41",
   "metadata": {},
   "outputs": [],
   "source": []
  }
 ],
 "metadata": {
  "kernelspec": {
   "display_name": "Python 3",
   "language": "python",
   "name": "python3"
  },
  "language_info": {
   "codemirror_mode": {
    "name": "ipython",
    "version": 3
   },
   "file_extension": ".py",
   "mimetype": "text/x-python",
   "name": "python",
   "nbconvert_exporter": "python",
   "pygments_lexer": "ipython3",
   "version": "3.12.5"
  }
 },
 "nbformat": 4,
 "nbformat_minor": 5
}
